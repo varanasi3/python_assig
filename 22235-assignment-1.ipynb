{
 "cells": [
  {
   "cell_type": "markdown",
   "id": "a77ad523",
   "metadata": {},
   "source": [
    "Q1. Write a program to compute the real roots of the equation  𝑎𝑥2+𝑏𝑥+𝑐."
   ]
  },
  {
   "cell_type": "code",
   "execution_count": null,
   "id": "12f3d26d",
   "metadata": {},
   "outputs": [],
   "source": [
    "import math \n",
    "\"\"\"author = V.saikumar \n",
    "    date = 4/8/22\"\"\"\n",
    "def roots(a,b,c):\n",
    "    \"\"\"solves simple quadratic equations \n",
    "        -b+-sqrt(b^2-4*a*c)\n",
    "        this funtion takes a b c int inputs \"\"\"\n",
    "    root1= (-b+math.sqrt(b**2-4*a*c))/2*a## formula to find the roots\n",
    "    root2= (-b-math.sqrt(b**2-4*a*c))/2*a\n",
    "    \n",
    "    print( \"the roots are\" , root1,root2)\n",
    "    \n",
    "\n",
    "\n",
    "a = int(input(\"enter x^2 co-efficient:\"))\n",
    "b = int(input(\"enter x co-efficient:\"))\n",
    "c = int(input(\"enter constant co-efficient:\"))\n",
    "\n",
    "roots(a,b,c)"
   ]
  },
  {
   "cell_type": "markdown",
   "id": "014b5b37",
   "metadata": {},
   "source": [
    "Q5. Write a function mult_operation(a,b,operation). The input argument, operation, is a string that is either 'plus', 'minus', 'mult', 'div', or 'pow', and the function should compute: a+b, a−b, a∗b, a/b, and ab for the respective values for operation. A couple of test cases are given below."
   ]
  },
  {
   "cell_type": "code",
   "execution_count": 5,
   "id": "e9e251cb",
   "metadata": {},
   "outputs": [
    {
     "name": "stdout",
     "output_type": "stream",
     "text": [
      "enter the first value: 45\n",
      "enter the second  value: 86\n",
      "enter the operation :plus\n",
      "131\n"
     ]
    }
   ],
   "source": [
    "\"\"\"author = V.saikumar \n",
    "    date = 4/8/22\"\"\"\n",
    "def mult_operation( a,b,operation):\n",
    "    \"\"\"works as calculator \n",
    "    solves addition ,sub,multiplication,division and power \n",
    "    for the given numbers\"\"\"\n",
    "    if (operation == \"plus\"):\n",
    "        res = a+b\n",
    "        print(res)\n",
    "    if (operation == \"minus\"):\n",
    "        res = a-b\n",
    "        print(res)\n",
    "    if (operation == \"mult\"):\n",
    "        res = a*b\n",
    "        print(res)\n",
    "    if (operation == \"div\"):\n",
    "        res = a/b\n",
    "        print(res)\n",
    "    if (operation == \"pow\"):\n",
    "        res = a**b\n",
    "        print(res)\n",
    "        \n",
    "\n",
    "\n",
    "a = int(input( \"enter the first value: \"))\n",
    "b = int(input( \"enter the second  value: \"))\n",
    "operation = input(\"enter the operation :\")\n",
    "\n",
    "mult_operation(a,b,operation)"
   ]
  },
  {
   "cell_type": "markdown",
   "id": "6edbb1c7",
   "metadata": {},
   "source": [
    "Q4. Write a function tip_calc(bill, party), where bill is the total cost of a meal and party is the number of people in the group. The tip should be calculated as 15% for a party strictly less than six people, 18% for a party strictly less than eight, 20% for a party less than 11, and 25% for a party 11 or more. A couple of test cases are given below."
   ]
  },
  {
   "cell_type": "code",
   "execution_count": 14,
   "id": "75354aa9",
   "metadata": {},
   "outputs": [
    {
     "name": "stdout",
     "output_type": "stream",
     "text": [
      "150.0\n"
     ]
    }
   ],
   "source": [
    "\"\"\"author = V.saikumar \n",
    "    date = 4/8/22\"\"\"\n",
    "def tip_calc(bill,party):\n",
    "    \"\"\"calculates bill according to the \n",
    "    number of people attended the party\"\"\"\n",
    "    if( party >=11):\n",
    "        tip = bill*(25/100)## calculates 25% of total bill\n",
    "    if(party < 6):\n",
    "        tip = bill*(15/100)## calculates 15% of total bill\n",
    "    if(party > 6 and party <8):\n",
    "         tip = bill*(18/100)## calculates 18% of total bill\n",
    "    if( party >6 and party<11):\n",
    "        tip = bill*(20/100)## calculates 20% of total bill\n",
    "    print(tip)\n",
    "    \n",
    "tip_calc(1000,5)\n"
   ]
  },
  {
   "cell_type": "markdown",
   "id": "0d698d1b",
   "metadata": {},
   "source": [
    "Q2. Write a program to compute the probability 𝑃(𝑋=𝑥), where 𝑋∼𝐵𝑖𝑛(𝑛=10,𝑝=0.2)"
   ]
  },
  {
   "cell_type": "code",
   "execution_count": 92,
   "id": "a8eb75ba",
   "metadata": {},
   "outputs": [
    {
     "name": "stdout",
     "output_type": "stream",
     "text": [
      " probability cant be more than 10+1\n"
     ]
    }
   ],
   "source": [
    "\n",
    "   \n",
    "from math import factorial         \n",
    "def binomial(n,p,x):\n",
    "    if p >1:\n",
    "        print( \" cant be greater than 1\")\n",
    "    elif x >= n+1:\n",
    "        print(f\" probability cant be more than {n}+1\")\n",
    "    else:\n",
    "        ncr= factorial(n) / (factorial(x) * factorial(n-x)) ##computing ncr i.e n!/r!*(n-r)!      \n",
    "        prob= (ncr*(p**x))*((1-p)**(n-x))##computes  \n",
    "        print(prob)     \n",
    "\n",
    "p=0.5 ## probability of success\n",
    "n=10 ## no of independent bernoulli trails\n",
    "x=11\n",
    "\n",
    "binomial(n,p,x)\n",
    "\n",
    "  \n",
    "    "
   ]
  },
  {
   "cell_type": "markdown",
   "id": "f4c93643",
   "metadata": {},
   "source": [
    "Q3. Lets say you are running a 5 km race. Write a program that,\n",
    "\n",
    "Upon completing each 1 km asks you \"are you tired?\"\n",
    "\n",
    "If you reply \"yes\" then it should break and print \"you didn't finish the race\"\n",
    "\n",
    "If you reply \"no\" then it should continue and ask \"are you tired\" on every km\n",
    "\n",
    "If you finish all 5 km then it should print congratulations message"
   ]
  },
  {
   "cell_type": "code",
   "execution_count": 13,
   "id": "fc6e0031",
   "metadata": {},
   "outputs": [
    {
     "name": "stdout",
     "output_type": "stream",
     "text": [
      "are you tired??yes\n",
      "u lost the race bro\n"
     ]
    }
   ],
   "source": [
    "\"\"\"author = V.saikumar \n",
    "    date = 4/8/22\"\"\"\n",
    "\"\"\"5km race programs\n",
    "asks for every 1km \n",
    "and according to the status of user delivers the message\"\"\"\n",
    "km=0\n",
    "while(km<5):\n",
    "    a = input(\"are you tired??\")\n",
    "    if(a == \"yes\"):\n",
    "        print(\"u lost the race \")\n",
    "        break\n",
    "    else:\n",
    "        km+=1   \n",
    "        print(\"congo u completed the race\")\n"
   ]
  },
  {
   "cell_type": "markdown",
   "id": "1dc36adc",
   "metadata": {},
   "source": [
    "Q6. Consider a triangle with vertices at (0,0), (1,0), and (0,1). Write a function inside_triangle(x,y) where the output is the string ‘outside’ if the point (x,y) is outside of the triangle, ‘border’ if the point is exactly on the border of the triangle, and ‘inside’ if the point is on the inside of the triangle."
   ]
  },
  {
   "cell_type": "code",
   "execution_count": null,
   "id": "dedb4d60",
   "metadata": {},
   "outputs": [],
   "source": [
    "\"\"\"author = V.saikumar \n",
    "    date = 4/8/22\"\"\"\n",
    "\n",
    "\"\"\"this program detects wether the given point is inside ,outside or on border of the traingle \"\"\"\n",
    "def inside_triangle(x,y):\n",
    "    \"\"\"this program detects wether the given point is inside ,outside or on border of the traingle\n",
    "    this function takes x and y float type co-ordinates and returns string\"\"\"\n",
    "    if(x+y==1 or (x==0 and y<1) or(y==0 and x<1) ):## if any one of these conditions satisfy then it is on border\n",
    "        print(\"on border\")\n",
    "        return\n",
    "    if(x+y<1):## if both co-ordinates sum is < 1 then it is inside\n",
    "        print(\" inside\")\n",
    "    else:\n",
    "        print(\"outside \")## if it not satisfy any conditions then it is outside the triangle\n",
    "\n",
    "x = float(input(\"enter the x co-ordinate: \"))\n",
    "y = float(input(\"enter the y co-ordinate: \"))\n",
    "inside_triangle(x,y)\n",
    "       "
   ]
  },
  {
   "cell_type": "markdown",
   "id": "4ca6e4f7",
   "metadata": {},
   "source": [
    "Q7. Write a function letter_grader(percent), where grade is the string ‘O’ if percent is greater than 80, ‘A’ if percent is greater than 70, ‘B‘ if percent is greater than 60, ‘C’ if percent is greater than 40, and ‘F’ if percent is less than 40. Grades exactly on the division should be included in the higher grade category"
   ]
  },
  {
   "cell_type": "code",
   "execution_count": 15,
   "id": "35bfff0a",
   "metadata": {},
   "outputs": [
    {
     "name": "stdout",
     "output_type": "stream",
     "text": [
      "'O'\n"
     ]
    }
   ],
   "source": [
    "\"\"\" in this programs it takes percentage of student and gives grades accordingly\"\"\"\n",
    "def letter_grader( percent):\n",
    "    \"\"\"author = V.saikumar \n",
    "    date = 4/8/22\n",
    "     this fuction takes percentage as input and returns string\"\"\"\n",
    "\n",
    "    if (percent >= 80):\n",
    "        print ( \"'O'\")\n",
    "    if (percent >= 70 and percent < 80):\n",
    "        print ( \"'O'\")\n",
    "    if (percent >= 60 and percent < 70):\n",
    "        print ( \"'O'\")\n",
    "    if (percent >= 40 and percent < 60):\n",
    "        print ( \"'O'\")\n",
    "    if (percent < 40):\n",
    "        print ( \"'O'\")\n",
    "letter_grader(89)"
   ]
  },
  {
   "cell_type": "markdown",
   "id": "cab0483d",
   "metadata": {},
   "source": [
    "Q8. Consider a nuclear reactor whose temperature is monitored by three sensors. An alarm should go off if any two of the sensor readings disagree. Write a function nuke_alarm(s1,s2,s3) where s1, s2, and s3 are the temperature readings for sensor 1, sensor 2, and sensor 3, respectively. The output should be the string ‘alarm!’ if any two of the temperature readings disagree by strictly more than 10 degrees and ‘normal’ otherwise."
   ]
  },
  {
   "cell_type": "code",
   "execution_count": 4,
   "id": "08e7eab1",
   "metadata": {},
   "outputs": [
    {
     "name": "stdout",
     "output_type": "stream",
     "text": [
      "enter the first sensor temp:78\n",
      "enter the second sensor temp:90\n",
      "enter the third sensor temp:78\n",
      "alarm 🚨\n"
     ]
    }
   ],
   "source": [
    "\"\"\"author = V.saikumar \n",
    "    date = 4/8/22\"\"\"\n",
    "def nuke_alarm(s1,s2,s3):\n",
    "    \"\"\"in this program if difference of any 2 sensors is >= 0 then it alarms or else it is normal \n",
    "    takes int s1,s2,s3 as inputs\"\"\"\n",
    "    if((s1-s2) >= 10 or (s1-s3)>= 10 or (s2-s3)>= 10 or (s2-s1) >= 10 or (s3-s1)>= 10 or (s3-s2) >= 10 ):\n",
    "        ##if difference of any 2 sensors is >= 0 then it alarms\n",
    "        print(\"alarm 🚨🚨🚨🚨🚨\")\n",
    "    else:\n",
    "        print(\" everything is normal\")\n",
    "\n",
    "s1 = int(input(\"enter the first sensor temp:\"))\n",
    "s2 = int(input(\"enter the second sensor temp:\"))\n",
    "s3 = int(input(\"enter the third sensor temp:\"))\n",
    "nuke_alarm(s1,s2,s3)\n",
    "\n",
    "    "
   ]
  },
  {
   "cell_type": "markdown",
   "id": "60d72952",
   "metadata": {},
   "source": [
    "Q9. Write a function n_odds(x), where 𝑥 is a one-dimensional array of floats and the output is the number of odd numbers in  𝑥."
   ]
  },
  {
   "cell_type": "code",
   "execution_count": 3,
   "id": "c7d246ff",
   "metadata": {},
   "outputs": [
    {
     "name": "stdout",
     "output_type": "stream",
     "text": [
      "no.of odds:   6\n"
     ]
    }
   ],
   "source": [
    "\"\"\"takes one dimensional array as input\"\"\"\n",
    "\"\"\"\"and gives the count of odd numbers in the array\"\"\"\n",
    "\"\"\"if the array has any floating numbers we cannot find wether they are odd or even\"\"\"\n",
    "def n_odds(x):\n",
    "    \"\"\"author = V.saikumar \n",
    "    date = 4/8/22\n",
    "    this function takes x as input \"\"\"\n",
    "\n",
    "    count=0\n",
    "    for i in x:\n",
    "        if(i%2 != 0):\n",
    "            count = count+1## counting number of odds in given array\n",
    "\n",
    "        \n",
    "    print(\"no.of odds:  \",count )\n",
    "x = [4,6,7,4,3,7,7,3,5,6]  \n",
    "n_odds(x)"
   ]
  },
  {
   "cell_type": "markdown",
   "id": "6facdd24",
   "metadata": {},
   "source": [
    "Q10. Write a function vol_cylinder(r,h), where  𝑟  and  ℎ  are the radius and height of a cylinder, respectively, and the output is a list  [𝑠,𝑣]  where  𝑠  and  𝑣  are the surface area and volume of the same cylinder, respectively. Recall that the surface area of a cylinder is  2π𝑟2+2π𝑟ℎ,  and the volume is  π𝑟2ℎ.  Assume that  𝑟  and  ℎ  are 1 by 1 float."
   ]
  },
  {
   "cell_type": "code",
   "execution_count": 73,
   "id": "4de3d73f",
   "metadata": {},
   "outputs": [
    {
     "name": "stdout",
     "output_type": "stream",
     "text": [
      "surface area and volume are : [4919.734095521616, 19848.582385380312]\n"
     ]
    }
   ],
   "source": [
    "\"\"\"\n",
    "     author = V.saikumar \n",
    "     date = 4/8/22\"\"\"\n",
    "import math\n",
    "\"\"\"this program takes radius and height \n",
    "and returs surface area and volume of the cylinder\"\"\"\n",
    "def vol_cylinder(r,h):\n",
    "     \n",
    "    s = (2*math.pi*r**2)+(2*math.pi*r*h)## formula of surface area of cylinder\n",
    "    v = (math.pi*r**2*h)## formula of volume\n",
    "      \n",
    "    print(\"surface area and volume are :\",[s,v] )\n",
    "\n",
    "vol_cylinder(9,78)"
   ]
  },
  {
   "cell_type": "code",
   "execution_count": null,
   "id": "6bd732cc",
   "metadata": {},
   "outputs": [],
   "source": []
  },
  {
   "cell_type": "code",
   "execution_count": null,
   "id": "254cd28f",
   "metadata": {},
   "outputs": [],
   "source": []
  },
  {
   "cell_type": "code",
   "execution_count": 74,
   "id": "78dd0eff",
   "metadata": {},
   "outputs": [
    {
     "ename": "NameError",
     "evalue": "name 'integrate' is not defined",
     "output_type": "error",
     "traceback": [
      "\u001b[1;31m---------------------------------------------------------------------------\u001b[0m",
      "\u001b[1;31mNameError\u001b[0m                                 Traceback (most recent call last)",
      "Input \u001b[1;32mIn [74]\u001b[0m, in \u001b[0;36m<cell line: 1>\u001b[1;34m()\u001b[0m\n\u001b[1;32m----> 1\u001b[0m help(\u001b[43mintegrate\u001b[49m)\n",
      "\u001b[1;31mNameError\u001b[0m: name 'integrate' is not defined"
     ]
    }
   ],
   "source": [
    "import\n",
    "help(integrate)"
   ]
  }
 ],
 "metadata": {
  "kernelspec": {
   "display_name": "Python 3 (ipykernel)",
   "language": "python",
   "name": "python3"
  },
  "language_info": {
   "codemirror_mode": {
    "name": "ipython",
    "version": 3
   },
   "file_extension": ".py",
   "mimetype": "text/x-python",
   "name": "python",
   "nbconvert_exporter": "python",
   "pygments_lexer": "ipython3",
   "version": "3.9.13"
  }
 },
 "nbformat": 4,
 "nbformat_minor": 5
}
