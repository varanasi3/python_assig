{
 "cells": [
  {
   "cell_type": "markdown",
   "id": "df937cc4",
   "metadata": {},
   "source": [
    "(2) In each of the following cases, compute EX, V ar(X) and EXn\n",
    "(for n ≥ 0, an integer)\n",
    "whever they exists.\n",
    "(a) f(x) = e\n",
    "−x\n",
    ", x ≥ 0.\n",
    "(b) f(x) = 1/[π(1 + x\n",
    "2\n",
    ")], −∞ < x < ∞.\n",
    "(c) f(x) = xe−x\n",
    ", x ≥ 0.\n",
    "(d) f(x) = p(1 − p)\n",
    "x−1\n",
    ", x = 1, 2, ...; 0 < p < 1.\n",
    "\n"
   ]
  },
  {
   "cell_type": "code",
   "execution_count": 58,
   "id": "9d290478",
   "metadata": {},
   "outputs": [
    {
     "name": "stdout",
     "output_type": "stream",
     "text": [
      " E[x] =  0.9999999999999998\n",
      " E[x^2] =  2.0\n",
      "variance is E[x^2] - (E[x])^2  : 1.0000000000000004\n",
      "nth moment of function is  120.0\n"
     ]
    }
   ],
   "source": [
    "## problem sheet /2.a\n",
    "\n",
    "import math\n",
    "import numpy as np\n",
    "from scipy.integrate import quad \n",
    "\"\"\"author : V.Sai kumar\"\"\"\n",
    "\"\"\"date: 11/08/2022\"\"\"\n",
    "\"\"\"this program gives the expectation , variance and nth moment of e^-x function \"\"\"\n",
    "\"\"\" if we change the f(x) and limits of continuos functionwe can find for any other function\"\"\"\n",
    "\n",
    "def expectation( upperlimit , lowerlimit):\n",
    "    value1,err1 = quad(lambda x : x*math.exp(-x) , lowerlimit ,upperlimit)\n",
    "    print(\" E[x] = \",value1)\n",
    "\n",
    "def variance( upperlimit , lowerlimit): \n",
    "    value2,err2 = quad(lambda x : (x**2)*math.exp(-x) , 0 ,math.inf)\n",
    "    print(\" E[x^2] = \",value2)\n",
    "    var = value2 - value1**2\n",
    "    print(\"variance is E[x^2] - (E[x])^2  :\", var)\n",
    "\n",
    "def nthmoment(n):\n",
    "    value3,err3 = quad(lambda x : (x**n)*math.exp(-x) , 0 ,math.inf)\n",
    "    return value3\n",
    "\n",
    "\n",
    "\n",
    "expectation( math.inf , 0)\n",
    "variance(math.inf , 0)\n",
    "print(\"nth moment of function is \",nthmoment(5))\n",
    "    "
   ]
  },
  {
   "cell_type": "code",
   "execution_count": 4,
   "id": "e6913571",
   "metadata": {},
   "outputs": [
    {
     "name": "stdout",
     "output_type": "stream",
     "text": [
      "0.9999999999999998\n"
     ]
    }
   ],
   "source": [
    "## problem sheet /3.a\n",
    "import math\n",
    "from scipy.integrate import quad\n",
    "\"\"\"\"author : V.Sai kumar\"\"\"\n",
    "\"\"\"date: 11/08/2022\"\"\"\n",
    "\"\"\"assuming theta value as 1 computing the pdf value to check weather pdf of function is equal to one   \"\"\"\n",
    "\n",
    "def pdf(upperlimit , lowerlimit):\n",
    "    theta = 1 ## given theta >0  , so assuming theta as 1\n",
    "          ## so the pdf should be equal to one as given \n",
    "    v1,e1 = quad(lambda x : theta**2 * x * math.exp(-theta*x) , 0 , math.inf) ## integral f(x).dx =1 \n",
    "    print(v1)\n",
    "    \n",
    "pdf(math.inf,0)"
   ]
  },
  {
   "cell_type": "code",
   "execution_count": 5,
   "id": "0738caa8",
   "metadata": {},
   "outputs": [
    {
     "name": "stdout",
     "output_type": "stream",
     "text": [
      "3.9999999999999996\n"
     ]
    }
   ],
   "source": [
    "## problem sheet /3.b\n",
    "import math\n",
    "from scipy.integrate import quad\n",
    "\n",
    "theta = 1\n",
    "v1,e1 = quad(lambda x : ((x+1)/theta*(theta+1))*math.exp(-x/1) , 0 , math.inf) \n",
    "print(v1)"
   ]
  }
 ],
 "metadata": {
  "kernelspec": {
   "display_name": "Python 3 (ipykernel)",
   "language": "python",
   "name": "python3"
  },
  "language_info": {
   "codemirror_mode": {
    "name": "ipython",
    "version": 3
   },
   "file_extension": ".py",
   "mimetype": "text/x-python",
   "name": "python",
   "nbconvert_exporter": "python",
   "pygments_lexer": "ipython3",
   "version": "3.9.13"
  }
 },
 "nbformat": 4,
 "nbformat_minor": 5
}
